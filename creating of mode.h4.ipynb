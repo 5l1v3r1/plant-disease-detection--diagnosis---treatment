{
 "cells": [
  {
   "cell_type": "markdown",
   "id": "db4ab3c9",
   "metadata": {
    "papermill": {
     "duration": 0.007328,
     "end_time": "2023-03-31T09:19:47.292207",
     "exception": false,
     "start_time": "2023-03-31T09:19:47.284879",
     "status": "completed"
    },
    "tags": []
   },
   "source": [
    "## Setup"
   ]
  },
  {
   "cell_type": "code",
   "execution_count": 3,
   "id": "e558f4e4",
   "metadata": {
    "execution": {
     "iopub.execute_input": "2023-03-31T09:19:47.307403Z",
     "iopub.status.busy": "2023-03-31T09:19:47.306508Z",
     "iopub.status.idle": "2023-03-31T09:19:57.567344Z",
     "shell.execute_reply": "2023-03-31T09:19:57.565844Z"
    },
    "papermill": {
     "duration": 10.272013,
     "end_time": "2023-03-31T09:19:57.570480",
     "exception": false,
     "start_time": "2023-03-31T09:19:47.298467",
     "status": "completed"
    },
    "tags": []
   },
   "outputs": [],
   "source": [
    "import tensorflow as tf\n",
    "from tensorflow import keras\n",
    "\n",
    "import matplotlib.pyplot as plt\n",
    "import numpy as np\n",
    "\n",
    "import os"
   ]
  },
  {
   "cell_type": "code",
   "execution_count": 4,
   "id": "6bf8ff9c",
   "metadata": {
    "execution": {
     "iopub.execute_input": "2023-03-31T09:19:57.585451Z",
     "iopub.status.busy": "2023-03-31T09:19:57.584612Z",
     "iopub.status.idle": "2023-03-31T09:19:57.593596Z",
     "shell.execute_reply": "2023-03-31T09:19:57.592044Z"
    },
    "papermill": {
     "duration": 0.019659,
     "end_time": "2023-03-31T09:19:57.596452",
     "exception": false,
     "start_time": "2023-03-31T09:19:57.576793",
     "status": "completed"
    },
    "tags": []
   },
   "outputs": [],
   "source": [
    "image_size = 224\n",
    "target_size = (image_size, image_size)\n",
    "input_shape = (image_size, image_size, 3)\n",
    "\n",
    "batch_size = 32\n",
    "epochs = 25"
   ]
  },
  {
   "cell_type": "markdown",
   "id": "6100d1c8",
   "metadata": {
    "papermill": {
     "duration": 0.006887,
     "end_time": "2023-03-31T09:19:57.609535",
     "exception": false,
     "start_time": "2023-03-31T09:19:57.602648",
     "status": "completed"
    },
    "tags": []
   },
   "source": [
    "## Get data\n",
    "\n",
    "In order to make the most of our few training examples, we will \"augment\" them via a number of random transformations, so that our model would never see twice the exact same picture. This helps prevent overfitting and helps the model generalize better.\n",
    "\n",
    "In TensorFlow this can be done via the `tf.keras.preprocessing.image.ImageDataGenerator` class. This class allows you to:\n",
    "\n",
    "- configure random transformations and normalization operations to be done on your image data during training\n",
    "- instantiate generators of augmented image batches (and their labels) via `.flow(data, labels)` or `.flow_from_directory(directory)`. These generators can then be used with the `tf.keras` model methods that accept data generators as inputs, `fit`, `evaluate` and `predict`."
   ]
  },
  {
   "cell_type": "code",
   "execution_count": 5,
   "id": "483df90c",
   "metadata": {
    "execution": {
     "iopub.execute_input": "2023-03-31T09:19:57.624376Z",
     "iopub.status.busy": "2023-03-31T09:19:57.623932Z",
     "iopub.status.idle": "2023-03-31T09:19:57.630107Z",
     "shell.execute_reply": "2023-03-31T09:19:57.628774Z"
    },
    "papermill": {
     "duration": 0.016345,
     "end_time": "2023-03-31T09:19:57.632514",
     "exception": false,
     "start_time": "2023-03-31T09:19:57.616169",
     "status": "completed"
    },
    "tags": []
   },
   "outputs": [],
   "source": [
    "base_dir = \"dataset/new plant diseases dataset(augmented)/New Plant Diseases Dataset(Augmented)\"\n",
    "train_dir = os.path.join(base_dir,\"train\")\n",
    "test_dir = os.path.join(base_dir,\"valid\")"
   ]
  },
  {
   "cell_type": "markdown",
   "id": "0e29290f",
   "metadata": {
    "papermill": {
     "duration": 0.005911,
     "end_time": "2023-03-31T09:19:57.644683",
     "exception": false,
     "start_time": "2023-03-31T09:19:57.638772",
     "status": "completed"
    },
    "tags": []
   },
   "source": [
    "# Identify Plant Diseases\n",
    "\n",
    "We use the PlantVillage dataset [1] by Hughes et al. consists of about 87,000 healthy and unhealthy leaf images divided into 38 categories by species and disease. Here we provide a subset of our experiments on working with this data. We also end up transfer learning from MobileNet and use the weights from pre-training on ImageNet.\n",
    "\n",
    "* ![PlantVillage Dataset Samples](https://i.imgur.com/Zcxdrlc.png)\n",
    "Figure 1. PlantVillage Dataset Samples\n",
    "\n",
    "## Classes\n",
    "\n",
    "The following 38 classes are availaible in the dataset\n",
    "\n",
    "- `Apple___Apple_scab` \n",
    "- `Apple___Black_rot` \n",
    "- `Apple___Cedar_apple_rust` \n",
    "- `Apple___healthy` \n",
    "- `Blueberry___healthy` \n",
    "- `Cherry_(including_sour)___Powdery_mildew` \n",
    "- `Cherry_(including_sour)___healthy` \n",
    "- `Corn_(maize)___Cercospora_leaf_spot Gray_leaf_spot` \n",
    "- `Corn_(maize)___Common_rust_` \n",
    "- `Corn_(maize)___Northern_Leaf_Blight` \n",
    "- `Corn_(maize)___healthy', 'Grape___Black_rot` \n",
    "- `Grape___Leaf_blight_(Isariopsis_Leaf_Spot)` \n",
    "- `Grape___healthy` \n",
    "- `Orange___Haunglongbing_(Citrus_greening)` \n",
    "- `Peach___Bacterial_spot` \n",
    "- `Peach___healthy` \n",
    "- `Pepper,_bell___Bacterial_spot` \n",
    "- `Pepper,_bell___healthy` \n",
    "- `Potato___Early_blight` \n",
    "- `Potato___Late_blight` \n",
    "- `Potato___healthy` \n",
    "- `Raspberry___healthy` \n",
    "- `Soybean___healthy` \n",
    "- `Squash___Powdery_mildew` \n",
    "- `Strawberry___Leaf_scorch` \n",
    "- `Strawberry___healthy` \n",
    "- `Tomato___Bacterial_spot` \n",
    "- `Tomato___Late_blight` \n",
    "- `Tomato___Leaf_Mold` \n",
    "- `Tomato___Septoria_leaf_spot` \n",
    "- `Tomato___Spider_mites Two-spotted_spider_mite` \n",
    "- `Tomato___Target_Spot` \n",
    "- `Tomato___Tomato_Yellow_Leaf_Curl_Virus` \n",
    "- `Tomato___Tomato_mosaic_virus` \n",
    "- `Tomato___healthy`\n",
    "\n",
    "## References\n",
    "\n",
    "[1] Hughes, David P., and Marcel Salathe. “An Open Access Repository of Images on Plant Health to Enable the Development of Mobile Disease Diagnostics.” ArXiv:1511.08060 [Cs], Apr. 2016. arXiv.org, http://arxiv.org/abs/1511.08060.\n",
    "\n",
    "[2] Howard, Andrew G., et al. “MobileNets: Efficient Convolutional Neural Networks for Mobile Vision Applications.” ArXiv:1704.04861 [Cs], Apr. 2017. arXiv.org, http://arxiv.org/abs/1704.04861.\n"
   ]
  },
  {
   "cell_type": "markdown",
   "id": "d2a24b10",
   "metadata": {
    "papermill": {
     "duration": 0.005865,
     "end_time": "2023-03-31T09:19:57.656686",
     "exception": false,
     "start_time": "2023-03-31T09:19:57.650821",
     "status": "completed"
    },
    "tags": []
   },
   "source": [
    "We make the following augmentations to the images:\n",
    "\n",
    "- `width_shift` and `height_shift` are ranges (as a fraction of total width or height) within which to randomly translate pictures vertically or horizontally\n",
    "- `rescale` is a value by which we will multiply the data before any other processing. Our original images consist in RGB coefficients in the 0-255, but such values would be too high for our models to process (given a typical learning rate), so we target values between 0 and 1 instead by scaling with a 1/255. factor.\n",
    "- `shear_range` is for randomly applying shearing transformations\n",
    "- `zoom_range` is for randomly zooming inside pictures\n",
    "- `fill_mode` is the strategy used for filling in newly created pixels, which can appear after a rotation or a width/height shift."
   ]
  },
  {
   "cell_type": "code",
   "execution_count": 6,
   "id": "46a278ec",
   "metadata": {
    "execution": {
     "iopub.execute_input": "2023-03-31T09:19:57.671099Z",
     "iopub.status.busy": "2023-03-31T09:19:57.670624Z",
     "iopub.status.idle": "2023-03-31T09:19:57.677676Z",
     "shell.execute_reply": "2023-03-31T09:19:57.676504Z"
    },
    "papermill": {
     "duration": 0.017046,
     "end_time": "2023-03-31T09:19:57.680102",
     "exception": false,
     "start_time": "2023-03-31T09:19:57.663056",
     "status": "completed"
    },
    "tags": []
   },
   "outputs": [],
   "source": [
    "train_datagen = keras.preprocessing.image.ImageDataGenerator(rescale = 1/255.0,\n",
    "                                                             shear_range = 0.2,\n",
    "                                                             zoom_range = 0.2,\n",
    "                                                             width_shift_range = 0.2,\n",
    "                                                             height_shift_range = 0.2,\n",
    "                                                             fill_mode=\"nearest\")\n",
    "\n",
    "test_datagen = keras.preprocessing.image.ImageDataGenerator(rescale = 1/255.0)"
   ]
  },
  {
   "cell_type": "markdown",
   "id": "2e6ce2e3",
   "metadata": {
    "papermill": {
     "duration": 0.005746,
     "end_time": "2023-03-31T09:19:57.692107",
     "exception": false,
     "start_time": "2023-03-31T09:19:57.686361",
     "status": "completed"
    },
    "tags": []
   },
   "source": [
    "Let's prepare our data. We will use `.flow_from_directory()` to generate batches of image data (and their labels) directly from our images in their respective folders."
   ]
  },
  {
   "cell_type": "code",
   "execution_count": 7,
   "id": "f40656d6",
   "metadata": {
    "execution": {
     "iopub.execute_input": "2023-03-31T09:19:57.706710Z",
     "iopub.status.busy": "2023-03-31T09:19:57.705843Z",
     "iopub.status.idle": "2023-03-31T09:20:50.946617Z",
     "shell.execute_reply": "2023-03-31T09:20:50.945278Z"
    },
    "papermill": {
     "duration": 53.251586,
     "end_time": "2023-03-31T09:20:50.949652",
     "exception": false,
     "start_time": "2023-03-31T09:19:57.698066",
     "status": "completed"
    },
    "tags": []
   },
   "outputs": [
    {
     "name": "stdout",
     "output_type": "stream",
     "text": [
      "Found 33385 images belonging to 18 classes.\n",
      "Found 8345 images belonging to 18 classes.\n"
     ]
    }
   ],
   "source": [
    "train_data = train_datagen.flow_from_directory(train_dir,\n",
    "                                               target_size = (image_size, image_size),\n",
    "                                               batch_size = batch_size,\n",
    "                                               class_mode = \"categorical\")\n",
    "\n",
    "test_data = test_datagen.flow_from_directory(test_dir,\n",
    "                                             target_size = (image_size, image_size),\n",
    "                                             batch_size = batch_size,\n",
    "                                             class_mode = \"categorical\")"
   ]
  },
  {
   "cell_type": "markdown",
   "id": "f16b1fca",
   "metadata": {
    "papermill": {
     "duration": 0.005983,
     "end_time": "2023-03-31T09:20:50.962355",
     "exception": false,
     "start_time": "2023-03-31T09:20:50.956372",
     "status": "completed"
    },
    "tags": []
   },
   "source": [
    "## Create a classes index file\n",
    "\n",
    "We also want to know which class corresponds to which species and disease so we also create a `json` file which shows corresponding labels and class indices."
   ]
  },
  {
   "cell_type": "code",
   "execution_count": 8,
   "id": "481b3766",
   "metadata": {
    "execution": {
     "iopub.execute_input": "2023-03-31T09:20:50.977238Z",
     "iopub.status.busy": "2023-03-31T09:20:50.976472Z",
     "iopub.status.idle": "2023-03-31T09:20:50.982689Z",
     "shell.execute_reply": "2023-03-31T09:20:50.981176Z"
    },
    "papermill": {
     "duration": 0.016832,
     "end_time": "2023-03-31T09:20:50.985339",
     "exception": false,
     "start_time": "2023-03-31T09:20:50.968507",
     "status": "completed"
    },
    "tags": []
   },
   "outputs": [
    {
     "name": "stdout",
     "output_type": "stream",
     "text": [
      "{'Corn_(maize)___Cercospora_leaf_spot Gray_leaf_spot': 0, 'Corn_(maize)___Common_rust_': 1, 'Corn_(maize)___Northern_Leaf_Blight': 2, 'Corn_(maize)___healthy': 3, 'Potato___Early_blight': 4, 'Potato___Late_blight': 5, 'Potato___healthy': 6, 'Soybean___healthy': 7, 'Tomato___Bacterial_spot': 8, 'Tomato___Early_blight': 9, 'Tomato___Late_blight': 10, 'Tomato___Leaf_Mold': 11, 'Tomato___Septoria_leaf_spot': 12, 'Tomato___Spider_mites Two-spotted_spider_mite': 13, 'Tomato___Target_Spot': 14, 'Tomato___Tomato_Yellow_Leaf_Curl_Virus': 15, 'Tomato___Tomato_mosaic_virus': 16, 'Tomato___healthy': 17}\n"
     ]
    }
   ],
   "source": [
    "categories = list(train_data.class_indices.keys())\n",
    "print(train_data.class_indices)"
   ]
  },
  {
   "cell_type": "code",
   "execution_count": 9,
   "id": "f3e056be",
   "metadata": {
    "execution": {
     "iopub.execute_input": "2023-03-31T09:20:51.000364Z",
     "iopub.status.busy": "2023-03-31T09:20:50.999544Z",
     "iopub.status.idle": "2023-03-31T09:20:51.008611Z",
     "shell.execute_reply": "2023-03-31T09:20:51.007388Z"
    },
    "papermill": {
     "duration": 0.019436,
     "end_time": "2023-03-31T09:20:51.011179",
     "exception": false,
     "start_time": "2023-03-31T09:20:50.991743",
     "status": "completed"
    },
    "tags": []
   },
   "outputs": [
    {
     "data": {
      "text/html": [
       "<a href='class_indices.json' target='_blank'>class_indices.json</a><br>"
      ],
      "text/plain": [
       "/home/phandera/Documents/projects/plant-disease/class_indices.json"
      ]
     },
     "execution_count": 9,
     "metadata": {},
     "output_type": "execute_result"
    }
   ],
   "source": [
    "import json\n",
    "with open('class_indices.json','w') as f:\n",
    "  json.dump(train_data.class_indices, f)\n",
    "\n",
    "from IPython.display import FileLink\n",
    "FileLink(r'class_indices.json')"
   ]
  },
  {
   "cell_type": "markdown",
   "id": "d9333466",
   "metadata": {
    "papermill": {
     "duration": 0.006992,
     "end_time": "2023-03-31T09:20:51.024741",
     "exception": false,
     "start_time": "2023-03-31T09:20:51.017749",
     "status": "completed"
    },
    "tags": []
   },
   "source": [
    "## Training\n",
    "\n",
    "We first get the base MobileNet model without including the top layers since we want to use it for 38 classes and us the pre-trained weights for ImageNet."
   ]
  },
  {
   "cell_type": "code",
   "execution_count": 10,
   "id": "d915e531",
   "metadata": {
    "execution": {
     "iopub.execute_input": "2023-03-31T09:20:51.039778Z",
     "iopub.status.busy": "2023-03-31T09:20:51.038949Z",
     "iopub.status.idle": "2023-03-31T09:20:52.496137Z",
     "shell.execute_reply": "2023-03-31T09:20:52.494742Z"
    },
    "papermill": {
     "duration": 1.468248,
     "end_time": "2023-03-31T09:20:52.499338",
     "exception": false,
     "start_time": "2023-03-31T09:20:51.031090",
     "status": "completed"
    },
    "tags": []
   },
   "outputs": [
    {
     "name": "stderr",
     "output_type": "stream",
     "text": [
      "2023-08-12 23:53:29.279159: I tensorflow/core/common_runtime/process_util.cc:146] Creating new thread pool with default inter op setting: 2. Tune using inter_op_parallelism_threads for best performance.\n"
     ]
    }
   ],
   "source": [
    "base_model = tf.keras.applications.MobileNet(weights = \"imagenet\",\n",
    "                                             include_top = False,\n",
    "                                             input_shape = input_shape)\n",
    "\n",
    "base_model.trainable = False"
   ]
  },
  {
   "cell_type": "markdown",
   "id": "48f30bac",
   "metadata": {
    "papermill": {
     "duration": 0.006822,
     "end_time": "2023-03-31T09:20:52.513188",
     "exception": false,
     "start_time": "2023-03-31T09:20:52.506366",
     "status": "completed"
    },
    "tags": []
   },
   "source": [
    "We now create a small upstream model on top of the MobileNet using the functional API"
   ]
  },
  {
   "cell_type": "code",
   "execution_count": 11,
   "id": "433319b7",
   "metadata": {
    "execution": {
     "iopub.execute_input": "2023-03-31T09:20:52.530773Z",
     "iopub.status.busy": "2023-03-31T09:20:52.530319Z",
     "iopub.status.idle": "2023-03-31T09:20:52.835303Z",
     "shell.execute_reply": "2023-03-31T09:20:52.833810Z"
    },
    "papermill": {
     "duration": 0.317515,
     "end_time": "2023-03-31T09:20:52.838267",
     "exception": false,
     "start_time": "2023-03-31T09:20:52.520752",
     "status": "completed"
    },
    "tags": []
   },
   "outputs": [],
   "source": [
    "inputs = keras.Input(shape = input_shape)\n",
    "\n",
    "x = base_model(inputs, training = False)\n",
    "x = tf.keras.layers.GlobalAveragePooling2D()(x)\n",
    "x = tf.keras.layers.Dropout(0.2)(x)\n",
    "x = tf.keras.layers.Dense(len(categories), \n",
    "                          activation=\"softmax\")(x)\n",
    "\n",
    "model = keras.Model(inputs = inputs, \n",
    "                    outputs = x, \n",
    "                    name=\"LeafDisease_MobileNet\")"
   ]
  },
  {
   "cell_type": "markdown",
   "id": "ff5d6e1c",
   "metadata": {
    "papermill": {
     "duration": 0.006617,
     "end_time": "2023-03-31T09:20:52.851822",
     "exception": false,
     "start_time": "2023-03-31T09:20:52.845205",
     "status": "completed"
    },
    "tags": []
   },
   "source": [
    "In our multiple experiments we found out Adam optimizer to work really well with it's default learning rate, $\\beta_1$, $\\beta_2$ and $\\epsilon$ values"
   ]
  },
  {
   "cell_type": "code",
   "execution_count": 12,
   "id": "afeb41ff",
   "metadata": {
    "execution": {
     "iopub.execute_input": "2023-03-31T09:20:52.867849Z",
     "iopub.status.busy": "2023-03-31T09:20:52.867408Z",
     "iopub.status.idle": "2023-03-31T09:20:52.895517Z",
     "shell.execute_reply": "2023-03-31T09:20:52.894120Z"
    },
    "papermill": {
     "duration": 0.039791,
     "end_time": "2023-03-31T09:20:52.898501",
     "exception": false,
     "start_time": "2023-03-31T09:20:52.858710",
     "status": "completed"
    },
    "tags": []
   },
   "outputs": [],
   "source": [
    "optimizer = tf.keras.optimizers.Adam()\n",
    "\n",
    "model.compile(optimizer = optimizer,\n",
    "              loss = tf.keras.losses.CategoricalCrossentropy(from_logits = True),\n",
    "              metrics=[keras.metrics.CategoricalAccuracy(), \n",
    "                       'accuracy'])"
   ]
  },
  {
   "cell_type": "code",
   "execution_count": null,
   "id": "59200b5d",
   "metadata": {},
   "outputs": [],
   "source": []
  },
  {
   "cell_type": "code",
   "execution_count": null,
   "id": "69f71601",
   "metadata": {},
   "outputs": [],
   "source": []
  },
  {
   "cell_type": "code",
   "execution_count": null,
   "id": "524f1396",
   "metadata": {},
   "outputs": [],
   "source": []
  },
  {
   "cell_type": "code",
   "execution_count": null,
   "id": "ba59f33a",
   "metadata": {},
   "outputs": [],
   "source": []
  },
  {
   "cell_type": "code",
   "execution_count": null,
   "id": "2678aeb8",
   "metadata": {},
   "outputs": [],
   "source": []
  },
  {
   "cell_type": "code",
   "execution_count": null,
   "id": "1d2b2a94",
   "metadata": {},
   "outputs": [],
   "source": []
  },
  {
   "cell_type": "code",
   "execution_count": null,
   "id": "076a5421",
   "metadata": {},
   "outputs": [],
   "source": []
  },
  {
   "cell_type": "code",
   "execution_count": null,
   "id": "a276382c",
   "metadata": {},
   "outputs": [],
   "source": []
  },
  {
   "cell_type": "code",
   "execution_count": null,
   "id": "10db08d4",
   "metadata": {},
   "outputs": [],
   "source": []
  },
  {
   "cell_type": "code",
   "execution_count": null,
   "id": "1177609f",
   "metadata": {},
   "outputs": [],
   "source": []
  },
  {
   "cell_type": "code",
   "execution_count": null,
   "id": "724117b7",
   "metadata": {},
   "outputs": [],
   "source": []
  },
  {
   "cell_type": "code",
   "execution_count": null,
   "id": "23486f63",
   "metadata": {},
   "outputs": [],
   "source": []
  },
  {
   "cell_type": "code",
   "execution_count": null,
   "id": "e6604b08",
   "metadata": {},
   "outputs": [],
   "source": []
  },
  {
   "cell_type": "code",
   "execution_count": null,
   "id": "92cc24fb",
   "metadata": {},
   "outputs": [],
   "source": []
  },
  {
   "cell_type": "code",
   "execution_count": null,
   "id": "c724e157",
   "metadata": {},
   "outputs": [],
   "source": []
  },
  {
   "cell_type": "code",
   "execution_count": null,
   "id": "66636b92",
   "metadata": {},
   "outputs": [],
   "source": []
  },
  {
   "cell_type": "code",
   "execution_count": null,
   "id": "719a3834",
   "metadata": {},
   "outputs": [],
   "source": []
  },
  {
   "cell_type": "code",
   "execution_count": null,
   "id": "0c02c219",
   "metadata": {},
   "outputs": [],
   "source": []
  },
  {
   "cell_type": "code",
   "execution_count": null,
   "id": "66ff2317",
   "metadata": {},
   "outputs": [],
   "source": []
  },
  {
   "cell_type": "code",
   "execution_count": null,
   "id": "b4a592c9",
   "metadata": {},
   "outputs": [],
   "source": []
  },
  {
   "cell_type": "code",
   "execution_count": null,
   "id": "722c80c9",
   "metadata": {},
   "outputs": [],
   "source": []
  },
  {
   "cell_type": "code",
   "execution_count": null,
   "id": "93fdfaf6",
   "metadata": {},
   "outputs": [],
   "source": []
  },
  {
   "cell_type": "code",
   "execution_count": null,
   "id": "05c45951",
   "metadata": {},
   "outputs": [],
   "source": []
  },
  {
   "cell_type": "code",
   "execution_count": null,
   "id": "e4bce4c8",
   "metadata": {},
   "outputs": [],
   "source": []
  },
  {
   "cell_type": "code",
   "execution_count": null,
   "id": "590bb06b",
   "metadata": {},
   "outputs": [],
   "source": []
  },
  {
   "cell_type": "code",
   "execution_count": null,
   "id": "5bfeba11",
   "metadata": {},
   "outputs": [],
   "source": []
  },
  {
   "cell_type": "code",
   "execution_count": null,
   "id": "3fffe97d",
   "metadata": {},
   "outputs": [],
   "source": []
  },
  {
   "cell_type": "code",
   "execution_count": null,
   "id": "ef0e429a",
   "metadata": {},
   "outputs": [],
   "source": []
  },
  {
   "cell_type": "code",
   "execution_count": null,
   "id": "4b6f3cb0",
   "metadata": {},
   "outputs": [],
   "source": []
  },
  {
   "cell_type": "code",
   "execution_count": null,
   "id": "545f5fcf",
   "metadata": {},
   "outputs": [],
   "source": []
  },
  {
   "cell_type": "code",
   "execution_count": null,
   "id": "c196781e",
   "metadata": {},
   "outputs": [],
   "source": []
  },
  {
   "cell_type": "code",
   "execution_count": null,
   "id": "1dd376d6",
   "metadata": {},
   "outputs": [],
   "source": []
  },
  {
   "cell_type": "code",
   "execution_count": null,
   "id": "6ce8393b",
   "metadata": {},
   "outputs": [],
   "source": []
  },
  {
   "cell_type": "code",
   "execution_count": null,
   "id": "ae09681b",
   "metadata": {},
   "outputs": [],
   "source": []
  },
  {
   "cell_type": "code",
   "execution_count": null,
   "id": "64ee6c08",
   "metadata": {},
   "outputs": [],
   "source": []
  },
  {
   "cell_type": "code",
   "execution_count": null,
   "id": "51600981",
   "metadata": {},
   "outputs": [],
   "source": []
  },
  {
   "cell_type": "code",
   "execution_count": null,
   "id": "4577a7ee",
   "metadata": {},
   "outputs": [],
   "source": []
  },
  {
   "cell_type": "code",
   "execution_count": null,
   "id": "07823a51",
   "metadata": {},
   "outputs": [],
   "source": []
  },
  {
   "cell_type": "code",
   "execution_count": null,
   "id": "29b3b5e3",
   "metadata": {},
   "outputs": [],
   "source": []
  },
  {
   "cell_type": "code",
   "execution_count": null,
   "id": "586f7dde",
   "metadata": {},
   "outputs": [],
   "source": []
  },
  {
   "cell_type": "code",
   "execution_count": null,
   "id": "2b77a2d6",
   "metadata": {},
   "outputs": [],
   "source": []
  },
  {
   "cell_type": "code",
   "execution_count": null,
   "id": "368af01a",
   "metadata": {},
   "outputs": [],
   "source": []
  },
  {
   "cell_type": "code",
   "execution_count": null,
   "id": "1833c5b5",
   "metadata": {},
   "outputs": [],
   "source": []
  },
  {
   "cell_type": "code",
   "execution_count": null,
   "id": "f8d31f8a",
   "metadata": {},
   "outputs": [],
   "source": []
  },
  {
   "cell_type": "code",
   "execution_count": null,
   "id": "63601994",
   "metadata": {},
   "outputs": [],
   "source": []
  },
  {
   "cell_type": "code",
   "execution_count": null,
   "id": "e0d5f29c",
   "metadata": {},
   "outputs": [],
   "source": []
  },
  {
   "cell_type": "code",
   "execution_count": null,
   "id": "cdc0d040",
   "metadata": {},
   "outputs": [],
   "source": []
  },
  {
   "cell_type": "code",
   "execution_count": null,
   "id": "2024bc2e",
   "metadata": {},
   "outputs": [],
   "source": []
  },
  {
   "cell_type": "code",
   "execution_count": null,
   "id": "64fb9a20",
   "metadata": {},
   "outputs": [],
   "source": []
  },
  {
   "cell_type": "code",
   "execution_count": null,
   "id": "9b46a18d",
   "metadata": {},
   "outputs": [],
   "source": []
  },
  {
   "cell_type": "code",
   "execution_count": null,
   "id": "b5d521ad",
   "metadata": {},
   "outputs": [],
   "source": []
  },
  {
   "cell_type": "code",
   "execution_count": null,
   "id": "2dd03e0a",
   "metadata": {},
   "outputs": [],
   "source": []
  },
  {
   "cell_type": "code",
   "execution_count": null,
   "id": "c6079a7d",
   "metadata": {},
   "outputs": [],
   "source": []
  },
  {
   "cell_type": "code",
   "execution_count": null,
   "id": "c9ac0ccb",
   "metadata": {},
   "outputs": [],
   "source": []
  },
  {
   "cell_type": "code",
   "execution_count": null,
   "id": "91ecf2c5",
   "metadata": {},
   "outputs": [],
   "source": []
  },
  {
   "cell_type": "code",
   "execution_count": null,
   "id": "5b00a224",
   "metadata": {},
   "outputs": [],
   "source": []
  },
  {
   "cell_type": "code",
   "execution_count": null,
   "id": "244c8c57",
   "metadata": {},
   "outputs": [],
   "source": []
  },
  {
   "cell_type": "code",
   "execution_count": null,
   "id": "53308043",
   "metadata": {},
   "outputs": [],
   "source": []
  },
  {
   "cell_type": "code",
   "execution_count": null,
   "id": "c47f1bef",
   "metadata": {},
   "outputs": [],
   "source": []
  },
  {
   "cell_type": "code",
   "execution_count": null,
   "id": "e15272ec",
   "metadata": {},
   "outputs": [],
   "source": []
  },
  {
   "cell_type": "code",
   "execution_count": null,
   "id": "df314fdd",
   "metadata": {},
   "outputs": [],
   "source": []
  },
  {
   "cell_type": "code",
   "execution_count": null,
   "id": "64708455",
   "metadata": {},
   "outputs": [],
   "source": []
  },
  {
   "cell_type": "code",
   "execution_count": null,
   "id": "6f4d7127",
   "metadata": {},
   "outputs": [],
   "source": []
  },
  {
   "cell_type": "code",
   "execution_count": null,
   "id": "7550c4f9",
   "metadata": {},
   "outputs": [],
   "source": []
  },
  {
   "cell_type": "code",
   "execution_count": null,
   "id": "344773cf",
   "metadata": {},
   "outputs": [],
   "source": []
  },
  {
   "cell_type": "code",
   "execution_count": null,
   "id": "59969061",
   "metadata": {},
   "outputs": [],
   "source": []
  },
  {
   "cell_type": "code",
   "execution_count": null,
   "id": "ff4f1105",
   "metadata": {},
   "outputs": [],
   "source": []
  },
  {
   "cell_type": "code",
   "execution_count": null,
   "id": "d025e540",
   "metadata": {},
   "outputs": [],
   "source": []
  },
  {
   "cell_type": "code",
   "execution_count": null,
   "id": "29fb1e5e",
   "metadata": {},
   "outputs": [],
   "source": []
  },
  {
   "cell_type": "code",
   "execution_count": null,
   "id": "61f13f44",
   "metadata": {},
   "outputs": [],
   "source": []
  },
  {
   "cell_type": "code",
   "execution_count": null,
   "id": "1014b669",
   "metadata": {},
   "outputs": [],
   "source": []
  },
  {
   "cell_type": "code",
   "execution_count": null,
   "id": "41cb083e",
   "metadata": {},
   "outputs": [],
   "source": []
  },
  {
   "cell_type": "code",
   "execution_count": null,
   "id": "90b73338",
   "metadata": {},
   "outputs": [],
   "source": []
  },
  {
   "cell_type": "code",
   "execution_count": null,
   "id": "6cba4eea",
   "metadata": {},
   "outputs": [],
   "source": []
  },
  {
   "cell_type": "code",
   "execution_count": null,
   "id": "176c7e53",
   "metadata": {},
   "outputs": [],
   "source": []
  },
  {
   "cell_type": "code",
   "execution_count": null,
   "id": "b83bc3b4",
   "metadata": {},
   "outputs": [],
   "source": []
  },
  {
   "cell_type": "code",
   "execution_count": null,
   "id": "b95f7841",
   "metadata": {},
   "outputs": [],
   "source": []
  },
  {
   "cell_type": "code",
   "execution_count": null,
   "id": "309a4d49",
   "metadata": {},
   "outputs": [],
   "source": []
  },
  {
   "cell_type": "code",
   "execution_count": null,
   "id": "ed958adf",
   "metadata": {},
   "outputs": [],
   "source": []
  },
  {
   "cell_type": "code",
   "execution_count": null,
   "id": "898d870f",
   "metadata": {},
   "outputs": [],
   "source": []
  },
  {
   "cell_type": "code",
   "execution_count": null,
   "id": "0557f599",
   "metadata": {},
   "outputs": [],
   "source": []
  },
  {
   "cell_type": "code",
   "execution_count": null,
   "id": "577cc9e5",
   "metadata": {},
   "outputs": [],
   "source": []
  },
  {
   "cell_type": "code",
   "execution_count": 13,
   "id": "6a2dd8a5",
   "metadata": {
    "execution": {
     "iopub.execute_input": "2023-03-31T09:20:52.914752Z",
     "iopub.status.busy": "2023-03-31T09:20:52.914340Z",
     "iopub.status.idle": "2023-03-31T11:15:20.048243Z",
     "shell.execute_reply": "2023-03-31T11:15:20.046592Z"
    },
    "papermill": {
     "duration": 6867.41145,
     "end_time": "2023-03-31T11:15:20.316942",
     "exception": false,
     "start_time": "2023-03-31T09:20:52.905492",
     "status": "completed"
    },
    "tags": []
   },
   "outputs": [
    {
     "name": "stdout",
     "output_type": "stream",
     "text": [
      "Epoch 1/25\n"
     ]
    },
    {
     "name": "stderr",
     "output_type": "stream",
     "text": [
      "2023-08-12 23:53:39.862485: I tensorflow/core/common_runtime/executor.cc:1197] [/device:CPU:0] (DEBUG INFO) Executor start aborting (this does not indicate an error and you can ignore this message): INVALID_ARGUMENT: You must feed a value for placeholder tensor 'Placeholder/_0' with dtype int32\n",
      "\t [[{{node Placeholder/_0}}]]\n",
      "/home/phandera/miniconda3/lib/python3.11/site-packages/keras/backend.py:5561: UserWarning: \"`categorical_crossentropy` received `from_logits=True`, but the `output` argument was produced by a Softmax activation and thus does not represent logits. Was this intended?\n",
      "  output, from_logits = _get_logits(\n"
     ]
    },
    {
     "name": "stdout",
     "output_type": "stream",
     "text": [
      "150/150 [==============================] - ETA: 0s - loss: 1.4889 - categorical_accuracy: 0.5354 - accuracy: 0.5354"
     ]
    },
    {
     "name": "stderr",
     "output_type": "stream",
     "text": [
      "2023-08-13 00:09:41.145664: I tensorflow/core/common_runtime/executor.cc:1197] [/device:CPU:0] (DEBUG INFO) Executor start aborting (this does not indicate an error and you can ignore this message): INVALID_ARGUMENT: You must feed a value for placeholder tensor 'Placeholder/_0' with dtype int32\n",
      "\t [[{{node Placeholder/_0}}]]\n"
     ]
    },
    {
     "name": "stdout",
     "output_type": "stream",
     "text": [
      "150/150 [==============================] - 1584s 11s/step - loss: 1.4889 - categorical_accuracy: 0.5354 - accuracy: 0.5354 - val_loss: 0.7606 - val_categorical_accuracy: 0.7563 - val_accuracy: 0.7563\n",
      "Epoch 2/25\n",
      "150/150 [==============================] - 1560s 10s/step - loss: 0.7424 - categorical_accuracy: 0.7575 - accuracy: 0.7575 - val_loss: 0.5135 - val_categorical_accuracy: 0.8325 - val_accuracy: 0.8325\n",
      "Epoch 3/25\n",
      "150/150 [==============================] - 1642s 11s/step - loss: 0.5566 - categorical_accuracy: 0.8190 - accuracy: 0.8190 - val_loss: 0.4851 - val_categorical_accuracy: 0.8369 - val_accuracy: 0.8369\n",
      "Epoch 4/25\n",
      "150/150 [==============================] - 1562s 10s/step - loss: 0.4774 - categorical_accuracy: 0.8506 - accuracy: 0.8506 - val_loss: 0.3815 - val_categorical_accuracy: 0.8703 - val_accuracy: 0.8703\n",
      "Epoch 5/25\n",
      "150/150 [==============================] - 1679s 11s/step - loss: 0.4347 - categorical_accuracy: 0.8575 - accuracy: 0.8575 - val_loss: 0.3496 - val_categorical_accuracy: 0.8878 - val_accuracy: 0.8878\n",
      "Epoch 6/25\n",
      "150/150 [==============================] - 1557s 10s/step - loss: 0.4008 - categorical_accuracy: 0.8694 - accuracy: 0.8694 - val_loss: 0.3324 - val_categorical_accuracy: 0.8984 - val_accuracy: 0.8984\n",
      "Epoch 7/25\n",
      "150/150 [==============================] - 1560s 10s/step - loss: 0.3758 - categorical_accuracy: 0.8804 - accuracy: 0.8804 - val_loss: 0.2912 - val_categorical_accuracy: 0.9022 - val_accuracy: 0.9022\n",
      "Epoch 8/25\n",
      "150/150 [==============================] - 1556s 10s/step - loss: 0.3666 - categorical_accuracy: 0.8786 - accuracy: 0.8786 - val_loss: 0.2790 - val_categorical_accuracy: 0.9047 - val_accuracy: 0.9047\n",
      "Epoch 9/25\n",
      "150/150 [==============================] - 1562s 10s/step - loss: 0.3450 - categorical_accuracy: 0.8850 - accuracy: 0.8850 - val_loss: 0.3055 - val_categorical_accuracy: 0.8988 - val_accuracy: 0.8988\n",
      "Epoch 10/25\n",
      "150/150 [==============================] - 1637s 11s/step - loss: 0.3313 - categorical_accuracy: 0.8863 - accuracy: 0.8863 - val_loss: 0.2660 - val_categorical_accuracy: 0.9078 - val_accuracy: 0.9078\n",
      "Epoch 11/25\n",
      "150/150 [==============================] - 1647s 11s/step - loss: 0.3145 - categorical_accuracy: 0.8948 - accuracy: 0.8948 - val_loss: 0.2758 - val_categorical_accuracy: 0.9072 - val_accuracy: 0.9072\n",
      "Epoch 12/25\n",
      "150/150 [==============================] - 1814s 12s/step - loss: 0.3098 - categorical_accuracy: 0.8975 - accuracy: 0.8975 - val_loss: 0.2620 - val_categorical_accuracy: 0.9097 - val_accuracy: 0.9097\n",
      "Epoch 13/25\n",
      "150/150 [==============================] - 1768s 12s/step - loss: 0.2867 - categorical_accuracy: 0.9004 - accuracy: 0.9004 - val_loss: 0.2423 - val_categorical_accuracy: 0.9159 - val_accuracy: 0.9159\n",
      "Epoch 14/25\n",
      "150/150 [==============================] - 1828s 12s/step - loss: 0.2994 - categorical_accuracy: 0.9000 - accuracy: 0.9000 - val_loss: 0.2150 - val_categorical_accuracy: 0.9262 - val_accuracy: 0.9262\n",
      "Epoch 15/25\n",
      "150/150 [==============================] - 1813s 12s/step - loss: 0.2864 - categorical_accuracy: 0.9022 - accuracy: 0.9022 - val_loss: 0.2205 - val_categorical_accuracy: 0.9259 - val_accuracy: 0.9259\n",
      "Epoch 16/25\n",
      "150/150 [==============================] - 1665s 11s/step - loss: 0.2932 - categorical_accuracy: 0.9010 - accuracy: 0.9010 - val_loss: 0.2220 - val_categorical_accuracy: 0.9259 - val_accuracy: 0.9259\n",
      "Epoch 17/25\n",
      "150/150 [==============================] - 1503s 10s/step - loss: 0.2853 - categorical_accuracy: 0.9031 - accuracy: 0.9031 - val_loss: 0.2238 - val_categorical_accuracy: 0.9212 - val_accuracy: 0.9212\n",
      "Epoch 18/25\n",
      "150/150 [==============================] - 1508s 10s/step - loss: 0.2659 - categorical_accuracy: 0.9119 - accuracy: 0.9119 - val_loss: 0.2231 - val_categorical_accuracy: 0.9275 - val_accuracy: 0.9275\n",
      "Epoch 19/25\n",
      "150/150 [==============================] - 1592s 11s/step - loss: 0.2807 - categorical_accuracy: 0.9065 - accuracy: 0.9065 - val_loss: 0.2280 - val_categorical_accuracy: 0.9206 - val_accuracy: 0.9206\n",
      "Epoch 20/25\n",
      "150/150 [==============================] - 1556s 10s/step - loss: 0.2642 - categorical_accuracy: 0.9081 - accuracy: 0.9081 - val_loss: 0.2298 - val_categorical_accuracy: 0.9250 - val_accuracy: 0.9250\n",
      "Epoch 21/25\n",
      "150/150 [==============================] - 1559s 10s/step - loss: 0.2683 - categorical_accuracy: 0.9073 - accuracy: 0.9073 - val_loss: 0.2059 - val_categorical_accuracy: 0.9306 - val_accuracy: 0.9306\n",
      "Epoch 22/25\n",
      "150/150 [==============================] - 1576s 11s/step - loss: 0.2792 - categorical_accuracy: 0.9077 - accuracy: 0.9077 - val_loss: 0.1904 - val_categorical_accuracy: 0.9375 - val_accuracy: 0.9375\n",
      "Epoch 23/25\n",
      "150/150 [==============================] - 1559s 10s/step - loss: 0.2669 - categorical_accuracy: 0.9110 - accuracy: 0.9110 - val_loss: 0.2324 - val_categorical_accuracy: 0.9159 - val_accuracy: 0.9159\n",
      "Epoch 24/25\n",
      "150/150 [==============================] - 1552s 10s/step - loss: 0.2528 - categorical_accuracy: 0.9098 - accuracy: 0.9098 - val_loss: 0.2043 - val_categorical_accuracy: 0.9266 - val_accuracy: 0.9266\n",
      "Epoch 25/25\n",
      "150/150 [==============================] - 1557s 10s/step - loss: 0.2541 - categorical_accuracy: 0.9140 - accuracy: 0.9140 - val_loss: 0.1917 - val_categorical_accuracy: 0.9359 - val_accuracy: 0.9359\n"
     ]
    }
   ],
   "source": [
    "history = model.fit(train_data,\n",
    "                    validation_data=test_data,\n",
    "                    epochs=epochs,\n",
    "                    steps_per_epoch=150,\n",
    "                    validation_steps=100)"
   ]
  },
  {
   "cell_type": "markdown",
   "id": "9646b462",
   "metadata": {
    "papermill": {
     "duration": 0.253382,
     "end_time": "2023-03-31T11:15:20.827310",
     "exception": false,
     "start_time": "2023-03-31T11:15:20.573928",
     "status": "completed"
    },
    "tags": []
   },
   "source": [
    "## Review the training process"
   ]
  },
  {
   "cell_type": "code",
   "execution_count": 14,
   "id": "bc309ac3",
   "metadata": {
    "execution": {
     "iopub.execute_input": "2023-03-31T11:15:21.337791Z",
     "iopub.status.busy": "2023-03-31T11:15:21.335932Z",
     "iopub.status.idle": "2023-03-31T11:15:21.641069Z",
     "shell.execute_reply": "2023-03-31T11:15:21.639661Z"
    },
    "papermill": {
     "duration": 0.564475,
     "end_time": "2023-03-31T11:15:21.643968",
     "exception": false,
     "start_time": "2023-03-31T11:15:21.079493",
     "status": "completed"
    },
    "tags": []
   },
   "outputs": [
    {
     "data": {
      "text/plain": [
       "<matplotlib.legend.Legend at 0x7f7fa12eb8d0>"
      ]
     },
     "execution_count": 14,
     "metadata": {},
     "output_type": "execute_result"
    },
    {
     "data": {
      "image/png": "[encoded data removed]",
      "text/plain": [
       "<Figure size 1000x600 with 1 Axes>"
      ]
     },
     "metadata": {},
     "output_type": "display_data"
    }
   ],
   "source": [
    "loss = history.history['loss']\n",
    "val_loss = history.history['val_loss']\n",
    "\n",
    "epochs = range(len(loss))\n",
    "\n",
    "fig = plt.figure(figsize=(10,6))\n",
    "plt.plot(epochs,loss,c=\"red\",label=\"Training\")\n",
    "plt.plot(epochs,val_loss,c=\"blue\",label=\"Validation\")\n",
    "plt.xlabel(\"Epochs\")\n",
    "plt.ylabel(\"Loss\")\n",
    "plt.legend()"
   ]
  },
  {
   "cell_type": "code",
   "execution_count": 15,
   "id": "d706088f",
   "metadata": {
    "execution": {
     "iopub.execute_input": "2023-03-31T11:15:22.155578Z",
     "iopub.status.busy": "2023-03-31T11:15:22.155146Z",
     "iopub.status.idle": "2023-03-31T11:15:22.439211Z",
     "shell.execute_reply": "2023-03-31T11:15:22.437716Z"
    },
    "papermill": {
     "duration": 0.54465,
     "end_time": "2023-03-31T11:15:22.442117",
     "exception": false,
     "start_time": "2023-03-31T11:15:21.897467",
     "status": "completed"
    },
    "tags": []
   },
   "outputs": [
    {
     "data": {
      "text/plain": [
       "<matplotlib.legend.Legend at 0x7f7f60279c50>"
      ]
     },
     "execution_count": 15,
     "metadata": {},
     "output_type": "execute_result"
    },
    {
     "data": {
      "image/png": "[encoded data removed]",
      "text/plain": [
       "<Figure size 1000x600 with 1 Axes>"
      ]
     },
     "metadata": {},
     "output_type": "display_data"
    }
   ],
   "source": [
    "acc = history.history['categorical_accuracy']\n",
    "val_acc = history.history['val_categorical_accuracy']\n",
    "\n",
    "epochs = range(len(acc))\n",
    "\n",
    "fig = plt.figure(figsize=(10,6))\n",
    "plt.plot(epochs,acc,c=\"red\",label=\"Training\")\n",
    "plt.plot(epochs,val_acc,c=\"blue\",label=\"Validation\")\n",
    "plt.xlabel(\"Epochs\")\n",
    "plt.ylabel(\"Accuracy\")\n",
    "plt.legend()"
   ]
  },
  {
   "cell_type": "markdown",
   "id": "463cda02",
   "metadata": {
    "papermill": {
     "duration": 0.255082,
     "end_time": "2023-03-31T11:15:22.959380",
     "exception": false,
     "start_time": "2023-03-31T11:15:22.704298",
     "status": "completed"
    },
    "tags": []
   },
   "source": [
    "## Save the model\n",
    "We finally save the model in the standard TensorFlow 2 SavedModel format."
   ]
  },
  {
   "cell_type": "code",
   "execution_count": 17,
   "id": "0067dc1a",
   "metadata": {
    "execution": {
     "iopub.execute_input": "2023-03-31T11:15:23.566227Z",
     "iopub.status.busy": "2023-03-31T11:15:23.565314Z",
     "iopub.status.idle": "2023-03-31T11:15:37.341767Z",
     "shell.execute_reply": "2023-03-31T11:15:37.340126Z"
    },
    "papermill": {
     "duration": 14.11882,
     "end_time": "2023-03-31T11:15:37.345403",
     "exception": false,
     "start_time": "2023-03-31T11:15:23.226583",
     "status": "completed"
    },
    "tags": []
   },
   "outputs": [],
   "source": [
    "model.save('plant_disease.h5')"
   ]
  },
  {
   "cell_type": "markdown",
   "id": "f69e55c7",
   "metadata": {
    "papermill": {
     "duration": 0.259573,
     "end_time": "2023-03-31T11:15:37.876132",
     "exception": false,
     "start_time": "2023-03-31T11:15:37.616559",
     "status": "completed"
    },
    "tags": []
   },
   "source": [
    "## Converting to tflite Model"
   ]
  },
  {
   "cell_type": "code",
   "execution_count": 18,
   "id": "d31d4b9b",
   "metadata": {
    "execution": {
     "iopub.execute_input": "2023-03-31T11:15:38.408345Z",
     "iopub.status.busy": "2023-03-31T11:15:38.407891Z",
     "iopub.status.idle": "2023-03-31T11:16:01.705478Z",
     "shell.execute_reply": "2023-03-31T11:16:01.703962Z"
    },
    "papermill": {
     "duration": 23.568069,
     "end_time": "2023-03-31T11:16:01.708527",
     "exception": false,
     "start_time": "2023-03-31T11:15:38.140458",
     "status": "completed"
    },
    "tags": []
   },
   "outputs": [
    {
     "name": "stderr",
     "output_type": "stream",
     "text": [
      "2023-08-13 12:49:47.953963: I tensorflow/core/common_runtime/executor.cc:1197] [/device:CPU:0] (DEBUG INFO) Executor start aborting (this does not indicate an error and you can ignore this message): INVALID_ARGUMENT: You must feed a value for placeholder tensor 'inputs' with dtype float and shape [?,1024]\n",
      "\t [[{{node inputs}}]]\n",
      "2023-08-13 12:49:49.844760: I tensorflow/core/common_runtime/executor.cc:1197] [/device:CPU:0] (DEBUG INFO) Executor start aborting (this does not indicate an error and you can ignore this message): INVALID_ARGUMENT: You must feed a value for placeholder tensor 'inputs' with dtype float and shape [?,1024]\n",
      "\t [[{{node inputs}}]]\n",
      "WARNING:absl:Found untraced functions such as _update_step_xla, _jit_compiled_convolution_op, _jit_compiled_convolution_op, _jit_compiled_convolution_op, _jit_compiled_convolution_op while saving (showing 5 of 28). These functions will not be directly callable after loading.\n",
      "2023-08-13 12:49:52.097784: I tensorflow/core/grappler/devices.cc:75] Number of eligible GPUs (core count >= 8, compute capability >= 0.0): 0 (Note: TensorFlow was not compiled with CUDA or ROCm support)\n",
      "2023-08-13 12:49:52.101583: I tensorflow/core/grappler/clusters/single_machine.cc:358] Starting new session\n",
      "2023-08-13 12:49:52.775533: W tensorflow/compiler/mlir/lite/python/tf_tfl_flatbuffer_helpers.cc:364] Ignored output_format.\n",
      "2023-08-13 12:49:52.775569: W tensorflow/compiler/mlir/lite/python/tf_tfl_flatbuffer_helpers.cc:367] Ignored drop_control_dependency.\n"
     ]
    }
   ],
   "source": [
    "import tensorflow as tf\n",
    "\n",
    "# Convert the model\n",
    "converter = tf.lite.TFLiteConverter.from_keras_model(model)\n",
    "tflite_model = converter.convert()\n",
    "\n",
    "# Save the TFLite model\n",
    "with open('model.tflite', 'wb') as f:\n",
    "    f.write(tflite_model)"
   ]
  },
  {
   "cell_type": "code",
   "execution_count": null,
   "id": "5fc26e67",
   "metadata": {},
   "outputs": [],
   "source": []
  },
  {
   "cell_type": "code",
   "execution_count": null,
   "id": "c816f061",
   "metadata": {},
   "outputs": [],
   "source": []
  }
 ],
 "metadata": {
  "kernelspec": {
   "display_name": "Python 3 (ipykernel)",
   "language": "python",
   "name": "python3"
  },
  "language_info": {
   "codemirror_mode": {
    "name": "ipython",
    "version": 3
   },
   "file_extension": ".py",
   "mimetype": "text/x-python",
   "name": "python",
   "nbconvert_exporter": "python",
   "pygments_lexer": "ipython3",
   "version": "3.11.4"
  },
  "papermill": {
   "default_parameters": {},
   "duration": 6989.456024,
   "end_time": "2023-03-31T11:16:05.516788",
   "environment_variables": {},
   "exception": null,
   "input_path": "__notebook__.ipynb",
   "output_path": "__notebook__.ipynb",
   "parameters": {},
   "start_time": "2023-03-31T09:19:36.060764",
   "version": "2.4.0"
  }
 },
 "nbformat": 4,
 "nbformat_minor": 5
}
